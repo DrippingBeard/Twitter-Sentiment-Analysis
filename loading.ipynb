{
 "cells": [
  {
   "cell_type": "code",
   "execution_count": null,
   "metadata": {},
   "outputs": [],
   "source": [
    "import pickle\n",
    "import model"
   ]
  },
  {
   "cell_type": "code",
   "execution_count": null,
   "metadata": {},
   "outputs": [],
   "source": [
    "def loadModel():    \n",
    "    #Load the vectoriser.\n",
    "    file = open('vectorizer.pickle', 'rb')\n",
    "    vectorizer = pickle.load(file)\n",
    "    file.close()\n",
    "    #Load the model\n",
    "    file = open('lr.pickle', 'rb')\n",
    "    model = pickle.load(file)\n",
    "    file.close()\n",
    "    return vectorizer, model\n",
    "\n",
    "\n",
    "\n",
    "def predict(vectorizer, model, text):\n",
    "    #Predict the sentiment\n",
    "    inputdata = vectorizer.transform(cleanTweet(text))\n",
    "    sentiment = model.predict(inputdata)\n",
    "    \n",
    "    # Make a list of text with sentiment.\n",
    "    input = []\n",
    "    for text, pred in zip(text, sentiment):\n",
    "        input.append((text,pred))\n",
    "        \n",
    "    # Convert the list into a Pandas DataFrame.\n",
    "    df1 = pd.DataFrame(input, columns = ['Tweets','Sentiment'])\n",
    "    df1 = df1.replace([0,1], [\"Negative\",\"Positive\"])\n",
    "    return df1\n",
    "\n",
    "\n",
    "\n",
    "#Loading the saved model\n",
    "vectorizer, model = loadModel()\n",
    "#tweets whose sentiments are to be predicted\n",
    "text = [\"This was the worst trip I have ever had in my life.\",\n",
    "            \"I loved the food.\",\n",
    "            \"Thank You so much for taking care of my dog.\", \n",
    "            \"How can you perform so bad?\"]\n",
    "\n",
    "df = predict(vectorizer, model, text)\n",
    "df"
   ]
  }
 ],
 "metadata": {
  "language_info": {
   "name": "python"
  },
  "orig_nbformat": 4
 },
 "nbformat": 4,
 "nbformat_minor": 2
}
